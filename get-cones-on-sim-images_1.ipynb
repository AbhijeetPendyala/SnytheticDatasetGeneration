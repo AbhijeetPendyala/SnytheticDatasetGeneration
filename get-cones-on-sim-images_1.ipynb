{
 "cells": [
  {
   "cell_type": "code",
   "execution_count": 3,
   "metadata": {
    "ExecuteTime": {
     "end_time": "2019-08-01T13:54:31.587517Z",
     "start_time": "2019-08-01T13:54:31.581519Z"
    }
   },
   "outputs": [],
   "source": [
    "import pandas as pd\n",
    "import cv2\n",
    "import glob\n",
    "from keras_retinanet.utils.image import read_image_bgr, resize_image\n",
    "import random\n",
    "import numpy as np\n",
    "import progressbar\n",
    "import matplotlib.pyplot as plt\n",
    "from keras_retinanet.utils.image import read_image_bgr, resize_image"
   ]
  },
  {
   "cell_type": "code",
   "execution_count": 4,
   "metadata": {
    "ExecuteTime": {
     "end_time": "2019-08-01T13:54:32.246446Z",
     "start_time": "2019-08-01T13:54:32.027454Z"
    }
   },
   "outputs": [],
   "source": [
    "df = pd.read_csv('train_final.csv')"
   ]
  },
  {
   "cell_type": "code",
   "execution_count": 5,
   "metadata": {
    "ExecuteTime": {
     "end_time": "2019-08-01T13:54:32.827325Z",
     "start_time": "2019-08-01T13:54:32.776336Z"
    }
   },
   "outputs": [
    {
     "data": {
      "text/html": [
       "<div>\n",
       "<style scoped>\n",
       "    .dataframe tbody tr th:only-of-type {\n",
       "        vertical-align: middle;\n",
       "    }\n",
       "\n",
       "    .dataframe tbody tr th {\n",
       "        vertical-align: top;\n",
       "    }\n",
       "\n",
       "    .dataframe thead th {\n",
       "        text-align: right;\n",
       "    }\n",
       "</style>\n",
       "<table border=\"1\" class=\"dataframe\">\n",
       "  <thead>\n",
       "    <tr style=\"text-align: right;\">\n",
       "      <th></th>\n",
       "      <th>./datasets/VOC2012/JPEGImages/2008_001210.jpg</th>\n",
       "      <th>3</th>\n",
       "      <th>76</th>\n",
       "      <th>293</th>\n",
       "      <th>437</th>\n",
       "      <th>others</th>\n",
       "    </tr>\n",
       "  </thead>\n",
       "  <tbody>\n",
       "    <tr>\n",
       "      <th>0</th>\n",
       "      <td>./datasets/VOC2012/JPEGImages/2010_001257.jpg</td>\n",
       "      <td>324</td>\n",
       "      <td>307</td>\n",
       "      <td>353</td>\n",
       "      <td>362</td>\n",
       "      <td>others</td>\n",
       "    </tr>\n",
       "    <tr>\n",
       "      <th>1</th>\n",
       "      <td>./datasets/VOC2012/JPEGImages/2010_001257.jpg</td>\n",
       "      <td>267</td>\n",
       "      <td>312</td>\n",
       "      <td>312</td>\n",
       "      <td>374</td>\n",
       "      <td>others</td>\n",
       "    </tr>\n",
       "    <tr>\n",
       "      <th>2</th>\n",
       "      <td>./datasets/VOC2012/JPEGImages/2010_001257.jpg</td>\n",
       "      <td>199</td>\n",
       "      <td>308</td>\n",
       "      <td>261</td>\n",
       "      <td>395</td>\n",
       "      <td>others</td>\n",
       "    </tr>\n",
       "    <tr>\n",
       "      <th>3</th>\n",
       "      <td>./datasets/VOC2012/JPEGImages/2010_001257.jpg</td>\n",
       "      <td>81</td>\n",
       "      <td>297</td>\n",
       "      <td>184</td>\n",
       "      <td>379</td>\n",
       "      <td>others</td>\n",
       "    </tr>\n",
       "    <tr>\n",
       "      <th>4</th>\n",
       "      <td>./datasets/VOC2012/JPEGImages/2010_001257.jpg</td>\n",
       "      <td>1</td>\n",
       "      <td>332</td>\n",
       "      <td>83</td>\n",
       "      <td>438</td>\n",
       "      <td>others</td>\n",
       "    </tr>\n",
       "  </tbody>\n",
       "</table>\n",
       "</div>"
      ],
      "text/plain": [
       "   ./datasets/VOC2012/JPEGImages/2008_001210.jpg    3   76  293  437  others\n",
       "0  ./datasets/VOC2012/JPEGImages/2010_001257.jpg  324  307  353  362  others\n",
       "1  ./datasets/VOC2012/JPEGImages/2010_001257.jpg  267  312  312  374  others\n",
       "2  ./datasets/VOC2012/JPEGImages/2010_001257.jpg  199  308  261  395  others\n",
       "3  ./datasets/VOC2012/JPEGImages/2010_001257.jpg   81  297  184  379  others\n",
       "4  ./datasets/VOC2012/JPEGImages/2010_001257.jpg    1  332   83  438  others"
      ]
     },
     "execution_count": 5,
     "metadata": {},
     "output_type": "execute_result"
    }
   ],
   "source": [
    "df.head(5)"
   ]
  },
  {
   "cell_type": "code",
   "execution_count": 6,
   "metadata": {
    "ExecuteTime": {
     "end_time": "2019-08-01T13:54:33.446229Z",
     "start_time": "2019-08-01T13:54:33.442230Z"
    }
   },
   "outputs": [],
   "source": [
    "df.columns = [ 'image', 'x1', 'y1', 'x2', 'y2', 'class']"
   ]
  },
  {
   "cell_type": "code",
   "execution_count": 7,
   "metadata": {
    "ExecuteTime": {
     "end_time": "2019-08-01T13:54:34.089127Z",
     "start_time": "2019-08-01T13:54:34.078132Z"
    }
   },
   "outputs": [
    {
     "data": {
      "text/plain": [
       "(                                           image   x1   y1   x2   y2   class\n",
       " 0  ./datasets/VOC2012/JPEGImages/2010_001257.jpg  324  307  353  362  others\n",
       " 1  ./datasets/VOC2012/JPEGImages/2010_001257.jpg  267  312  312  374  others\n",
       " 2  ./datasets/VOC2012/JPEGImages/2010_001257.jpg  199  308  261  395  others\n",
       " 3  ./datasets/VOC2012/JPEGImages/2010_001257.jpg   81  297  184  379  others\n",
       " 4  ./datasets/VOC2012/JPEGImages/2010_001257.jpg    1  332   83  438  others,\n",
       " (61556, 6))"
      ]
     },
     "execution_count": 7,
     "metadata": {},
     "output_type": "execute_result"
    }
   ],
   "source": [
    "df.head(5),df.shape"
   ]
  },
  {
   "cell_type": "code",
   "execution_count": 8,
   "metadata": {
    "ExecuteTime": {
     "end_time": "2019-08-01T13:54:34.994004Z",
     "start_time": "2019-08-01T13:54:34.977991Z"
    }
   },
   "outputs": [],
   "source": [
    "df = df[df['class']!='trafficcone'] # there are not traffic cone classes in the csv"
   ]
  },
  {
   "cell_type": "code",
   "execution_count": 9,
   "metadata": {
    "ExecuteTime": {
     "end_time": "2019-08-01T13:54:35.575897Z",
     "start_time": "2019-08-01T13:54:35.568898Z"
    }
   },
   "outputs": [
    {
     "data": {
      "text/plain": [
       "(61556, 6)"
      ]
     },
     "execution_count": 9,
     "metadata": {},
     "output_type": "execute_result"
    }
   ],
   "source": [
    "df.shape"
   ]
  },
  {
   "cell_type": "code",
   "execution_count": 10,
   "metadata": {
    "ExecuteTime": {
     "end_time": "2019-08-01T13:54:36.322814Z",
     "start_time": "2019-08-01T13:54:36.248790Z"
    }
   },
   "outputs": [],
   "source": [
    "simdf = df[df['image'].str.contains('sim-data')]"
   ]
  },
  {
   "cell_type": "code",
   "execution_count": 11,
   "metadata": {
    "ExecuteTime": {
     "end_time": "2019-08-01T13:54:37.102659Z",
     "start_time": "2019-08-01T13:54:37.091660Z"
    }
   },
   "outputs": [
    {
     "data": {
      "text/html": [
       "<div>\n",
       "<style scoped>\n",
       "    .dataframe tbody tr th:only-of-type {\n",
       "        vertical-align: middle;\n",
       "    }\n",
       "\n",
       "    .dataframe tbody tr th {\n",
       "        vertical-align: top;\n",
       "    }\n",
       "\n",
       "    .dataframe thead th {\n",
       "        text-align: right;\n",
       "    }\n",
       "</style>\n",
       "<table border=\"1\" class=\"dataframe\">\n",
       "  <thead>\n",
       "    <tr style=\"text-align: right;\">\n",
       "      <th></th>\n",
       "      <th>image</th>\n",
       "      <th>x1</th>\n",
       "      <th>y1</th>\n",
       "      <th>x2</th>\n",
       "      <th>y2</th>\n",
       "      <th>class</th>\n",
       "    </tr>\n",
       "  </thead>\n",
       "  <tbody>\n",
       "    <tr>\n",
       "      <th>40137</th>\n",
       "      <td>./datasets/sim-data/camera4_23042019233526.jpg</td>\n",
       "      <td>1636</td>\n",
       "      <td>287</td>\n",
       "      <td>1843</td>\n",
       "      <td>438</td>\n",
       "      <td>car</td>\n",
       "    </tr>\n",
       "    <tr>\n",
       "      <th>40138</th>\n",
       "      <td>./datasets/sim-data/camera4_23042019233526.jpg</td>\n",
       "      <td>1348</td>\n",
       "      <td>443</td>\n",
       "      <td>1655</td>\n",
       "      <td>698</td>\n",
       "      <td>car</td>\n",
       "    </tr>\n",
       "    <tr>\n",
       "      <th>40139</th>\n",
       "      <td>./datasets/sim-data/camera4_23042019233526.jpg</td>\n",
       "      <td>1834</td>\n",
       "      <td>210</td>\n",
       "      <td>1919</td>\n",
       "      <td>268</td>\n",
       "      <td>car</td>\n",
       "    </tr>\n",
       "    <tr>\n",
       "      <th>40140</th>\n",
       "      <td>./datasets/sim-data/camera4_23042019233526.jpg</td>\n",
       "      <td>1151</td>\n",
       "      <td>384</td>\n",
       "      <td>1423</td>\n",
       "      <td>582</td>\n",
       "      <td>car</td>\n",
       "    </tr>\n",
       "    <tr>\n",
       "      <th>40141</th>\n",
       "      <td>./datasets/sim-data/camera4_23042019233526.jpg</td>\n",
       "      <td>1755</td>\n",
       "      <td>243</td>\n",
       "      <td>1887</td>\n",
       "      <td>327</td>\n",
       "      <td>car</td>\n",
       "    </tr>\n",
       "  </tbody>\n",
       "</table>\n",
       "</div>"
      ],
      "text/plain": [
       "                                                image    x1   y1    x2   y2  \\\n",
       "40137  ./datasets/sim-data/camera4_23042019233526.jpg  1636  287  1843  438   \n",
       "40138  ./datasets/sim-data/camera4_23042019233526.jpg  1348  443  1655  698   \n",
       "40139  ./datasets/sim-data/camera4_23042019233526.jpg  1834  210  1919  268   \n",
       "40140  ./datasets/sim-data/camera4_23042019233526.jpg  1151  384  1423  582   \n",
       "40141  ./datasets/sim-data/camera4_23042019233526.jpg  1755  243  1887  327   \n",
       "\n",
       "      class  \n",
       "40137   car  \n",
       "40138   car  \n",
       "40139   car  \n",
       "40140   car  \n",
       "40141   car  "
      ]
     },
     "execution_count": 11,
     "metadata": {},
     "output_type": "execute_result"
    }
   ],
   "source": [
    "simdf.head(5)"
   ]
  },
  {
   "cell_type": "code",
   "execution_count": 12,
   "metadata": {
    "ExecuteTime": {
     "end_time": "2019-08-01T13:54:37.746557Z",
     "start_time": "2019-08-01T13:54:37.741557Z"
    }
   },
   "outputs": [
    {
     "data": {
      "text/plain": [
       "(17535, 6)"
      ]
     },
     "execution_count": 12,
     "metadata": {},
     "output_type": "execute_result"
    }
   ],
   "source": [
    "simdf.shape"
   ]
  },
  {
   "cell_type": "code",
   "execution_count": 13,
   "metadata": {
    "ExecuteTime": {
     "end_time": "2019-08-01T13:54:38.830388Z",
     "start_time": "2019-08-01T13:54:38.826390Z"
    }
   },
   "outputs": [],
   "source": [
    "simdf=simdf[:5]"
   ]
  },
  {
   "cell_type": "code",
   "execution_count": 14,
   "metadata": {
    "ExecuteTime": {
     "end_time": "2019-08-01T13:54:39.980208Z",
     "start_time": "2019-08-01T13:54:39.967212Z"
    }
   },
   "outputs": [
    {
     "data": {
      "text/html": [
       "<div>\n",
       "<style scoped>\n",
       "    .dataframe tbody tr th:only-of-type {\n",
       "        vertical-align: middle;\n",
       "    }\n",
       "\n",
       "    .dataframe tbody tr th {\n",
       "        vertical-align: top;\n",
       "    }\n",
       "\n",
       "    .dataframe thead th {\n",
       "        text-align: right;\n",
       "    }\n",
       "</style>\n",
       "<table border=\"1\" class=\"dataframe\">\n",
       "  <thead>\n",
       "    <tr style=\"text-align: right;\">\n",
       "      <th></th>\n",
       "      <th>image</th>\n",
       "      <th>x1</th>\n",
       "      <th>y1</th>\n",
       "      <th>x2</th>\n",
       "      <th>y2</th>\n",
       "      <th>class</th>\n",
       "    </tr>\n",
       "  </thead>\n",
       "  <tbody>\n",
       "    <tr>\n",
       "      <th>40137</th>\n",
       "      <td>./datasets/sim-data/camera4_23042019233526.jpg</td>\n",
       "      <td>1636</td>\n",
       "      <td>287</td>\n",
       "      <td>1843</td>\n",
       "      <td>438</td>\n",
       "      <td>car</td>\n",
       "    </tr>\n",
       "    <tr>\n",
       "      <th>40138</th>\n",
       "      <td>./datasets/sim-data/camera4_23042019233526.jpg</td>\n",
       "      <td>1348</td>\n",
       "      <td>443</td>\n",
       "      <td>1655</td>\n",
       "      <td>698</td>\n",
       "      <td>car</td>\n",
       "    </tr>\n",
       "    <tr>\n",
       "      <th>40139</th>\n",
       "      <td>./datasets/sim-data/camera4_23042019233526.jpg</td>\n",
       "      <td>1834</td>\n",
       "      <td>210</td>\n",
       "      <td>1919</td>\n",
       "      <td>268</td>\n",
       "      <td>car</td>\n",
       "    </tr>\n",
       "    <tr>\n",
       "      <th>40140</th>\n",
       "      <td>./datasets/sim-data/camera4_23042019233526.jpg</td>\n",
       "      <td>1151</td>\n",
       "      <td>384</td>\n",
       "      <td>1423</td>\n",
       "      <td>582</td>\n",
       "      <td>car</td>\n",
       "    </tr>\n",
       "    <tr>\n",
       "      <th>40141</th>\n",
       "      <td>./datasets/sim-data/camera4_23042019233526.jpg</td>\n",
       "      <td>1755</td>\n",
       "      <td>243</td>\n",
       "      <td>1887</td>\n",
       "      <td>327</td>\n",
       "      <td>car</td>\n",
       "    </tr>\n",
       "  </tbody>\n",
       "</table>\n",
       "</div>"
      ],
      "text/plain": [
       "                                                image    x1   y1    x2   y2  \\\n",
       "40137  ./datasets/sim-data/camera4_23042019233526.jpg  1636  287  1843  438   \n",
       "40138  ./datasets/sim-data/camera4_23042019233526.jpg  1348  443  1655  698   \n",
       "40139  ./datasets/sim-data/camera4_23042019233526.jpg  1834  210  1919  268   \n",
       "40140  ./datasets/sim-data/camera4_23042019233526.jpg  1151  384  1423  582   \n",
       "40141  ./datasets/sim-data/camera4_23042019233526.jpg  1755  243  1887  327   \n",
       "\n",
       "      class  \n",
       "40137   car  \n",
       "40138   car  \n",
       "40139   car  \n",
       "40140   car  \n",
       "40141   car  "
      ]
     },
     "execution_count": 14,
     "metadata": {},
     "output_type": "execute_result"
    }
   ],
   "source": [
    "simdf"
   ]
  },
  {
   "cell_type": "code",
   "execution_count": 15,
   "metadata": {
    "ExecuteTime": {
     "end_time": "2019-08-01T13:54:40.931060Z",
     "start_time": "2019-08-01T13:54:40.927063Z"
    }
   },
   "outputs": [],
   "source": [
    "widgets=[\n",
    "    ' [', progressbar.Timer(), '] ',\n",
    "    progressbar.Bar(),\n",
    "    ' (', progressbar.ETA(), ') ',\n",
    "]"
   ]
  },
  {
   "cell_type": "code",
   "execution_count": 16,
   "metadata": {
    "ExecuteTime": {
     "end_time": "2019-08-01T13:54:44.279843Z",
     "start_time": "2019-08-01T13:54:44.256846Z"
    }
   },
   "outputs": [
    {
     "data": {
      "text/plain": [
       "248"
      ]
     },
     "execution_count": 16,
     "metadata": {},
     "output_type": "execute_result"
    }
   ],
   "source": [
    "cones_major = [file for file in glob.glob('./datasets/cones/real/*.png')]\n",
    "len(cones_major)"
   ]
  },
  {
   "cell_type": "code",
   "execution_count": 17,
   "metadata": {
    "ExecuteTime": {
     "end_time": "2019-08-01T13:54:45.752630Z",
     "start_time": "2019-08-01T13:54:45.406667Z"
    }
   },
   "outputs": [],
   "source": [
    "for back_image_file in (simdf['image'].unique()):\n",
    "    back_image = cv2.imread(back_image_file)\n",
    "    imshape = back_image.shape\n",
    "    num_cones = random.randint(1,5)\n",
    "    cones = random.choices(cones_major,k=num_cones)\n",
    "    coordinates = []\n",
    "    for index in range(num_cones):\n",
    "        cone_img = cv2.imread(cones[index])\n",
    "        cone_shape = cone_img.shape\n",
    "        max_cone_size = random.randint(45, 55)\n",
    "        cone_img, _ = resize_image(cone_img, min_side=45, max_side=max_cone_size)\n",
    "        cone_shape = cone_img.shape\n",
    "        x,y = (int((imshape[1] - cone_shape[1]) * np.random.uniform()),\n",
    "                int((imshape[0] - cone_shape[0]) // 2 *(np.random.uniform() + 1))\n",
    "                )\n",
    "        \n",
    "        back_image[y:y+cone_shape[0],x:x+cone_shape[1]] = cone_img\n",
    "        cv2.imwrite(back_image_file,back_image)\n",
    "        cone_annotation = {'image':back_image_file,'x1':x,'y1':y,'x2':x+cone_shape[1], 'y2':y+cone_shape[0],'class':'trafficcone'}\n",
    "        df = df.append(cone_annotation, ignore_index=True)"
   ]
  },
  {
   "cell_type": "code",
   "execution_count": null,
   "metadata": {
    "ExecuteTime": {
     "end_time": "2019-08-01T10:12:08.543554Z",
     "start_time": "2019-08-01T10:12:08.041257Z"
    }
   },
   "outputs": [],
   "source": [
    "df.to_csv('trafficcone-train.csv',header=None,index=False)"
   ]
  },
  {
   "cell_type": "code",
   "execution_count": null,
   "metadata": {},
   "outputs": [],
   "source": [
    "df_val = pd.read_csv('val_final.csv', header=None)\n",
    "df_val.columns = ['image', 'x1', 'y1', 'x2', 'y2', 'class']"
   ]
  },
  {
   "cell_type": "code",
   "execution_count": null,
   "metadata": {},
   "outputs": [],
   "source": [
    "df_val = df_val.append(df.iloc[-5000:])\n",
    "df_train = df.iloc[:-4999]\n",
    "df_val.to_csv('trafficcone-val.csv',index=False,header=None)"
   ]
  },
  {
   "cell_type": "code",
   "execution_count": null,
   "metadata": {},
   "outputs": [],
   "source": [
    "sim = df[df['class']=='trafficcone']\n",
    "sim.to_csv('sim_data.csv',header=None,index=False)"
   ]
  }
 ],
 "metadata": {
  "kernelspec": {
   "display_name": "Python 3",
   "language": "python",
   "name": "python3"
  },
  "language_info": {
   "codemirror_mode": {
    "name": "ipython",
    "version": 3
   },
   "file_extension": ".py",
   "mimetype": "text/x-python",
   "name": "python",
   "nbconvert_exporter": "python",
   "pygments_lexer": "ipython3",
   "version": "3.6.5"
  }
 },
 "nbformat": 4,
 "nbformat_minor": 2
}
