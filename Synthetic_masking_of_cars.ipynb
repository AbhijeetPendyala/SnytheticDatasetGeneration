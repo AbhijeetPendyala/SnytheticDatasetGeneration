{
 "cells": [
  {
   "cell_type": "markdown",
   "metadata": {
    "heading_collapsed": true
   },
   "source": [
    "## Imports"
   ]
  },
  {
   "cell_type": "code",
   "execution_count": null,
   "metadata": {
    "ExecuteTime": {
     "end_time": "2019-08-28T10:34:57.477398Z",
     "start_time": "2019-08-28T10:34:57.450979Z"
    },
    "hidden": true
   },
   "outputs": [],
   "source": [
    "import numpy as np \n",
    "import pandas as pd \n",
    "import matplotlib.pylab as plt\n",
    "import os \n",
    "from glob import glob\n",
    "import cv2\n",
    "from PIL import Image\n",
    "import random\n",
    "from io import BytesIO\n",
    "from tqdm import tqdm_notebook as tqdm\n",
    "tqdm().pandas()"
   ]
  },
  {
   "cell_type": "markdown",
   "metadata": {
    "ExecuteTime": {
     "end_time": "2019-08-28T08:58:30.821481Z",
     "start_time": "2019-08-28T08:58:30.816778Z"
    },
    "heading_collapsed": true
   },
   "source": [
    "## Download carvana dataset from kaggle"
   ]
  },
  {
   "cell_type": "markdown",
   "metadata": {
    "hidden": true
   },
   "source": [
    "___\\* Download the carvana dataset from kaggle (and place it in a folder: ./input here) \\*___\n",
    "\n",
    "<br>\n",
    "\n",
    "! pip install kaggle\n",
    "\n",
    "<br>\n",
    "\n",
    "! kaggle competitions download -c carvana-image-masking-challenge\n",
    "\n",
    "<br>\n",
    "\n",
    "%cd /home/jupyter/.kaggle _\\* The hidden kaggle folder in your linux/ubuntu instance\\*_\n",
    "\n",
    "<br>\n",
    "\n",
    "! wget https://a.uguu.se/XvFMekYiSDVC_kaggle.json _\\* download the json authentication from your kaggle account \\*_\n",
    "\n",
    "<br>\n",
    "\n",
    "! mv XvFMekYiSDVC_kaggle.json kaggle.json _\\*rename it\\*_\n",
    "\n",
    "<br>\n",
    "\n",
    "! chmod 600 ~/.kaggle/kaggle.json _\\* move it to .kaggle folder and give write permissions \\*_\n"
   ]
  },
  {
   "cell_type": "markdown",
   "metadata": {
    "heading_collapsed": true
   },
   "source": [
    "## Data I/O"
   ]
  },
  {
   "cell_type": "code",
   "execution_count": null,
   "metadata": {
    "ExecuteTime": {
     "end_time": "2019-08-28T10:32:13.800630Z",
     "start_time": "2019-08-28T10:32:12.721071Z"
    },
    "hidden": true
   },
   "outputs": [],
   "source": [
    "INPUT_PATH = './input'\n",
    "DATA_PATH = INPUT_PATH\n",
    "TRAIN_DATA = os.path.join(DATA_PATH, \"train\")\n",
    "TRAIN_MASKS_DATA = os.path.join(DATA_PATH, \"train_masks\")\n",
    "TEST_DATA = os.path.join(DATA_PATH, \"test\")\n",
    "TRAIN_MASKS_CSV_FILEPATH = os.path.join(DATA_PATH, \"train_masks.csv\")\n",
    "METADATA_CSV_FILEPATH = os.path.join(DATA_PATH, \"metadata.csv\")\n",
    "TRAIN_MASKS_CSV = pd.read_csv(TRAIN_MASKS_CSV_FILEPATH)\n",
    "METADATA_CSV = pd.read_csv(METADATA_CSV_FILEPATH)\n",
    "train_files = glob(os.path.join(TRAIN_DATA, \"*.jpg\"))\n",
    "train_ids = [s[len(TRAIN_DATA)+1:-4] for s in train_files]\n",
    "test_files = glob(os.path.join(TEST_DATA, \"*.jpg\"))\n",
    "test_ids = [s[len(TEST_DATA)+1:-4] for s in test_files]"
   ]
  },
  {
   "cell_type": "markdown",
   "metadata": {
    "ExecuteTime": {
     "end_time": "2019-08-28T09:24:23.632037Z",
     "start_time": "2019-08-28T09:24:23.628444Z"
    },
    "heading_collapsed": true,
    "hidden": true
   },
   "source": [
    "### Helper functions"
   ]
  },
  {
   "cell_type": "code",
   "execution_count": null,
   "metadata": {
    "ExecuteTime": {
     "end_time": "2019-08-28T10:32:21.661291Z",
     "start_time": "2019-08-28T10:32:21.641305Z"
    },
    "hidden": true
   },
   "outputs": [],
   "source": [
    "def get_filename(image_id, image_type):\n",
    "    check_dir = False\n",
    "    if \"Train\" == image_type:\n",
    "        ext = 'jpg'\n",
    "        data_path = TRAIN_DATA\n",
    "        suffix = ''\n",
    "    elif \"Train_mask\" in image_type:\n",
    "        ext = 'gif'\n",
    "        data_path = TRAIN_MASKS_DATA\n",
    "        suffix = '_mask'\n",
    "    elif \"Test\" in image_type:\n",
    "        ext = 'jpg'\n",
    "        data_path = TEST_DATA\n",
    "        suffix = ''\n",
    "    elif \"Foreground\" in image_type:\n",
    "        ext = 'jpg'\n",
    "        data_path = Foreground\n",
    "        suffix = ''\n",
    "    elif \"Background\" in image_type:\n",
    "        ext = 'jpg'\n",
    "        data_path = Background\n",
    "        suffix = ''\n",
    "    else:\n",
    "        raise Exception(\"Image type '%s' is not recognized\" % image_type)\n",
    "\n",
    "    if check_dir and not os.path.exists(data_path):\n",
    "        os.makedirs(data_path)\n",
    "\n",
    "    return os.path.join(data_path, \"{}{}.{}\".format(image_id, suffix, ext))\n",
    "def get_image_data(image_id, image_type, **kwargs):\n",
    "    if 'mask' in image_type:\n",
    "        img = _get_image_data_pil(image_id, image_type, **kwargs)\n",
    "    else:\n",
    "        img = _get_image_data_opencv(image_id, image_type, **kwargs)\n",
    "    return img\n",
    "\n",
    "def _get_image_data_opencv(image_id, image_type, **kwargs):\n",
    "    fname = get_filename(image_id, image_type)\n",
    "    img = cv2.imread(fname)\n",
    "    assert img is not None, \"Failed to read image : %s, %s\" % (image_id, image_type)\n",
    "    img = cv2.cvtColor(img, cv2.COLOR_BGR2RGB)\n",
    "    return img\n",
    "\n",
    "\n",
    "def _get_image_data_pil(image_id, image_type, return_exif_md=False, return_shape_only=False):\n",
    "    fname = get_filename(image_id, image_type)\n",
    "    try:\n",
    "        img_pil = Image.open(fname)\n",
    "    except Exception as e:\n",
    "        assert False, \"Failed to read image : %s, %s. Error message: %s\" % (image_id, image_type, e)\n",
    "\n",
    "    if return_shape_only:\n",
    "        return img_pil.size[::-1] + (len(img_pil.getbands()),)\n",
    "\n",
    "    img = np.asarray(img_pil)\n",
    "    assert isinstance(img, np.ndarray), \"Open image is not an ndarray. Image id/type : %s, %s\" % (image_id, image_type)\n",
    "    if not return_exif_md:\n",
    "        return img\n",
    "    else:\n",
    "        return img, img_pil._getexif()"
   ]
  },
  {
   "cell_type": "markdown",
   "metadata": {
    "ExecuteTime": {
     "end_time": "2019-08-28T09:27:00.939015Z",
     "start_time": "2019-08-28T09:27:00.935849Z"
    },
    "heading_collapsed": true,
    "hidden": true
   },
   "source": [
    "### Create background images"
   ]
  },
  {
   "cell_type": "markdown",
   "metadata": {
    "hidden": true
   },
   "source": [
    "***Scraping images from google***\n",
    "\n",
    "___\\* Use Ctrl-Shift-J to open console in google chrome and run the script \\*___\n",
    "\n",
    "urls = Array.from(document.querySelectorAll('.rg_di .rg_meta')).map(el=>JSON.parse(el.textContent).ou);\n",
    "window.open('data:text/csv;charset=utf-8,' + escape(urls.join('\\n')));"
   ]
  },
  {
   "cell_type": "markdown",
   "metadata": {
    "heading_collapsed": true,
    "hidden": true
   },
   "source": [
    "### Read the scraped images as background images "
   ]
  },
  {
   "cell_type": "code",
   "execution_count": null,
   "metadata": {
    "ExecuteTime": {
     "end_time": "2019-08-28T10:32:28.902343Z",
     "start_time": "2019-08-28T10:32:28.897064Z"
    },
    "hidden": true
   },
   "outputs": [],
   "source": [
    "background_images = [file for file in glob('./images/*.jpg')]\n",
    "background_images.sort(reverse=False)"
   ]
  },
  {
   "cell_type": "markdown",
   "metadata": {
    "heading_collapsed": true
   },
   "source": [
    "## Create foreground images (cars+masks)"
   ]
  },
  {
   "cell_type": "code",
   "execution_count": null,
   "metadata": {
    "ExecuteTime": {
     "end_time": "2019-08-28T10:33:43.587996Z",
     "start_time": "2019-08-28T10:33:32.950105Z"
    },
    "hidden": true
   },
   "outputs": [],
   "source": [
    "path = './input/delete/'\n",
    "for i in tqdm(range(len(train_ids))):\n",
    "    image_id = train_ids[i]\n",
    "    plt.figure(figsize=(20, 20))\n",
    "    img = get_image_data(image_id, \"Train\")\n",
    "    mask = get_image_data(image_id, \"Train_mask\")\n",
    "    img_masked = cv2.bitwise_and(img, img, mask=mask)\n",
    "    cv2.imwrite(os.path.join(path ,str(image_id)+\".jpg\"), img_masked)"
   ]
  },
  {
   "cell_type": "markdown",
   "metadata": {
    "heading_collapsed": true
   },
   "source": [
    "## Create masked cars"
   ]
  },
  {
   "cell_type": "code",
   "execution_count": null,
   "metadata": {
    "ExecuteTime": {
     "end_time": "2019-08-28T10:34:05.752235Z",
     "start_time": "2019-08-28T10:33:59.797184Z"
    },
    "hidden": true
   },
   "outputs": [],
   "source": [
    "path = './input/Background_function_mix/'\n",
    "z=0\n",
    "image_ids=[]\n",
    "for i in tqdm(range(403)):\n",
    "    img = cv2.imread(background_images[i])\n",
    "    for i in range(12):  \n",
    "        \n",
    "        #pre-processing: \n",
    "        image_id = train_ids[z+i]\n",
    "        image_ids.append(image_id)   \n",
    "        z+=1\n",
    "        mask = get_image_data(image_id, \"Train_mask\")\n",
    "        foregroundimg_grayscale= cv2.imread(\"./input/Foreground/\"+str(image_id)+\".jpg\",0)\n",
    "        foregroundimg = cv2.imread(\"./input/Foreground/\"+str(image_id)+\".jpg\")\n",
    "        h,w = np.size(mask,0),np.size(mask,1)\n",
    "        try:\n",
    "            img_resized= cv2.resize( img,(int(w),int(h)), interpolation= cv2.INTER_AREA)\n",
    "        except:\n",
    "            continue  \n",
    "        img_resized[mask ==1]= [0,0,0]\n",
    "        \n",
    "        #real stuff\n",
    "        \n",
    "        low=random.choice([20,40])\n",
    "        if low==20:\n",
    "            high=192\n",
    "        else:\n",
    "            high=40\n",
    "\n",
    "        def thresholding():\n",
    "            _,thresh1 = cv2.threshold(foregroundimg_grayscale,low,high,cv2.THRESH_BINARY)\n",
    "            pre_final= cv2.cvtColor(thresh1.copy(),cv2.COLOR_GRAY2RGB)\n",
    "            return pre_final\n",
    "        def edgedetection():\n",
    "            canny = cv2.Canny(foregroundimg, 0, 300)\n",
    "            pre_final = np.stack((canny,)*3, axis=-1)\n",
    "            return pre_final\n",
    "        \n",
    "        functions=[thresholding(),edgedetection()]\n",
    "        random.choice(functions) #randomly chose a method\n",
    "        \n",
    "        #final image\n",
    "        final= random.choice(functions)+img_resized \n",
    "        \n",
    "        cv2.imwrite(os.path.join(path ,str(image_id)+\".jpg\"), final)\n",
    "  "
   ]
  },
  {
   "cell_type": "markdown",
   "metadata": {
    "ExecuteTime": {
     "end_time": "2019-08-28T09:45:55.822197Z",
     "start_time": "2019-08-28T09:45:55.817698Z"
    },
    "heading_collapsed": true
   },
   "source": [
    "## Create annotations and save"
   ]
  },
  {
   "cell_type": "code",
   "execution_count": null,
   "metadata": {
    "ExecuteTime": {
     "end_time": "2019-08-28T10:34:20.101011Z",
     "start_time": "2019-08-28T10:34:17.194868Z"
    },
    "hidden": true
   },
   "outputs": [],
   "source": [
    "final = [file for file in glob('./input/Background_function_mix/*.jpg')]\n",
    "bboxes_df = pd.DataFrame()\n",
    "for i in tqdm(range(len(final))):\n",
    "    base = (os.path.basename(final[i]))\n",
    "    image_id=os.path.splitext(base)[0]\n",
    "    mask = get_image_data(image_id, \"Train_mask\") \n",
    "    where = np.array(np.where(mask))\n",
    "    x1, y1 = (np.amin(where, axis=1))\n",
    "    x2, y2 = (np.amax(where, axis=1))\n",
    "    bboxes = {'image': \"./datasets/carvana/\"+str(image_id)+\".jpg\",'x1':y1,'y1':x1,'x2':y2, 'y2':x2,'class':'car'}\n",
    "    bboxes_df=bboxes_df.append(bboxes, ignore_index=True)\n",
    "    bboxes_df=bboxes_df[['image','x1','y1','x2','y2','class']]\n",
    "    bboxes_df=bboxes_df.astype({\"x1\": int, \"x2\": int, \"y1\" : int, \"y2\" : int})\n",
    "bboxes_df.to_csv('bbox_d.csv',index=False,header= False)"
   ]
  },
  {
   "cell_type": "code",
   "execution_count": null,
   "metadata": {
    "hidden": true
   },
   "outputs": [],
   "source": []
  }
 ],
 "metadata": {
  "kernelspec": {
   "display_name": "Python 3",
   "language": "python",
   "name": "python3"
  },
  "language_info": {
   "codemirror_mode": {
    "name": "ipython",
    "version": 3
   },
   "file_extension": ".py",
   "mimetype": "text/x-python",
   "name": "python",
   "nbconvert_exporter": "python",
   "pygments_lexer": "ipython3",
   "version": "3.7.3"
  }
 },
 "nbformat": 4,
 "nbformat_minor": 2
}
